{
  "nbformat": 4,
  "nbformat_minor": 0,
  "metadata": {
    "colab": {
      "name": "P1_2101446_Wilson_Lab1.ipynb",
      "provenance": [],
      "collapsed_sections": []
    },
    "kernelspec": {
      "name": "python3",
      "display_name": "Python 3"
    },
    "language_info": {
      "name": "python"
    }
  },
  "cells": [
    {
      "cell_type": "code",
      "source": [
        "from sqlalchemy.sql.schema import Table\n",
        "from sqlalchemy import Column,Integer,String,create_engine, select, update\n",
        "from sqlalchemy.orm import declarative_base, sessionmaker\n",
        "\n",
        "engine = create_engine('sqlite:///:memory:', echo=True)\n",
        "Base = declarative_base()\n",
        "\n",
        "class CLS2223T1(Base):\n",
        "  __tablename__ = 'TB2103'\n",
        "\n",
        "  sid = Column(Integer,primary_key=True)\n",
        "  name = Column(String)\n",
        "  grade = Column(String)\n",
        "\n",
        "Base.metadata.create_all(engine)\n",
        "\n",
        "\n"
      ],
      "metadata": {
        "colab": {
          "base_uri": "https://localhost:8080/"
        },
        "id": "9XmqPjqUMJy9",
        "outputId": "5a4c430e-f157-4af0-b918-ed6bf678634d"
      },
      "execution_count": 1,
      "outputs": [
        {
          "output_type": "stream",
          "name": "stdout",
          "text": [
            "2022-08-30 06:01:12,867 INFO sqlalchemy.engine.Engine BEGIN (implicit)\n"
          ]
        },
        {
          "output_type": "stream",
          "name": "stderr",
          "text": [
            "INFO:sqlalchemy.engine.Engine:BEGIN (implicit)\n"
          ]
        },
        {
          "output_type": "stream",
          "name": "stdout",
          "text": [
            "2022-08-30 06:01:12,875 INFO sqlalchemy.engine.Engine PRAGMA main.table_info(\"TB2103\")\n"
          ]
        },
        {
          "output_type": "stream",
          "name": "stderr",
          "text": [
            "INFO:sqlalchemy.engine.Engine:PRAGMA main.table_info(\"TB2103\")\n"
          ]
        },
        {
          "output_type": "stream",
          "name": "stdout",
          "text": [
            "2022-08-30 06:01:12,881 INFO sqlalchemy.engine.Engine [raw sql] ()\n"
          ]
        },
        {
          "output_type": "stream",
          "name": "stderr",
          "text": [
            "INFO:sqlalchemy.engine.Engine:[raw sql] ()\n"
          ]
        },
        {
          "output_type": "stream",
          "name": "stdout",
          "text": [
            "2022-08-30 06:01:12,885 INFO sqlalchemy.engine.Engine PRAGMA temp.table_info(\"TB2103\")\n"
          ]
        },
        {
          "output_type": "stream",
          "name": "stderr",
          "text": [
            "INFO:sqlalchemy.engine.Engine:PRAGMA temp.table_info(\"TB2103\")\n"
          ]
        },
        {
          "output_type": "stream",
          "name": "stdout",
          "text": [
            "2022-08-30 06:01:12,889 INFO sqlalchemy.engine.Engine [raw sql] ()\n"
          ]
        },
        {
          "output_type": "stream",
          "name": "stderr",
          "text": [
            "INFO:sqlalchemy.engine.Engine:[raw sql] ()\n"
          ]
        },
        {
          "output_type": "stream",
          "name": "stdout",
          "text": [
            "2022-08-30 06:01:12,896 INFO sqlalchemy.engine.Engine \n",
            "CREATE TABLE \"TB2103\" (\n",
            "\tsid INTEGER NOT NULL, \n",
            "\tname VARCHAR, \n",
            "\tgrade VARCHAR, \n",
            "\tPRIMARY KEY (sid)\n",
            ")\n",
            "\n",
            "\n"
          ]
        },
        {
          "output_type": "stream",
          "name": "stderr",
          "text": [
            "INFO:sqlalchemy.engine.Engine:\n",
            "CREATE TABLE \"TB2103\" (\n",
            "\tsid INTEGER NOT NULL, \n",
            "\tname VARCHAR, \n",
            "\tgrade VARCHAR, \n",
            "\tPRIMARY KEY (sid)\n",
            ")\n",
            "\n",
            "\n"
          ]
        },
        {
          "output_type": "stream",
          "name": "stdout",
          "text": [
            "2022-08-30 06:01:12,899 INFO sqlalchemy.engine.Engine [no key 0.00310s] ()\n"
          ]
        },
        {
          "output_type": "stream",
          "name": "stderr",
          "text": [
            "INFO:sqlalchemy.engine.Engine:[no key 0.00310s] ()\n"
          ]
        },
        {
          "output_type": "stream",
          "name": "stdout",
          "text": [
            "2022-08-30 06:01:12,911 INFO sqlalchemy.engine.Engine COMMIT\n"
          ]
        },
        {
          "output_type": "stream",
          "name": "stderr",
          "text": [
            "INFO:sqlalchemy.engine.Engine:COMMIT\n"
          ]
        }
      ]
    },
    {
      "cell_type": "code",
      "source": [
        "Session = sessionmaker(bind=engine)\n",
        "session = Session()\n",
        "\n",
        "for instance in session.query(CLS2223T1):\n",
        "    print(instance.sid, instance.name, instance.grade)"
      ],
      "metadata": {
        "colab": {
          "base_uri": "https://localhost:8080/"
        },
        "id": "YCZBfQuMOuBh",
        "outputId": "15a26a14-b448-47f0-edbe-6bb85d16141a"
      },
      "execution_count": 2,
      "outputs": [
        {
          "output_type": "stream",
          "name": "stdout",
          "text": [
            "2022-08-30 06:01:13,591 INFO sqlalchemy.engine.Engine BEGIN (implicit)\n"
          ]
        },
        {
          "output_type": "stream",
          "name": "stderr",
          "text": [
            "INFO:sqlalchemy.engine.Engine:BEGIN (implicit)\n"
          ]
        },
        {
          "output_type": "stream",
          "name": "stdout",
          "text": [
            "2022-08-30 06:01:13,601 INFO sqlalchemy.engine.Engine SELECT \"TB2103\".sid AS \"TB2103_sid\", \"TB2103\".name AS \"TB2103_name\", \"TB2103\".grade AS \"TB2103_grade\" \n",
            "FROM \"TB2103\"\n"
          ]
        },
        {
          "output_type": "stream",
          "name": "stderr",
          "text": [
            "INFO:sqlalchemy.engine.Engine:SELECT \"TB2103\".sid AS \"TB2103_sid\", \"TB2103\".name AS \"TB2103_name\", \"TB2103\".grade AS \"TB2103_grade\" \n",
            "FROM \"TB2103\"\n"
          ]
        },
        {
          "output_type": "stream",
          "name": "stdout",
          "text": [
            "2022-08-30 06:01:13,607 INFO sqlalchemy.engine.Engine [generated in 0.00596s] ()\n"
          ]
        },
        {
          "output_type": "stream",
          "name": "stderr",
          "text": [
            "INFO:sqlalchemy.engine.Engine:[generated in 0.00596s] ()\n"
          ]
        }
      ]
    },
    {
      "cell_type": "code",
      "source": [
        "new_student = CLS2223T1(sid = 2002103, name='John', grade='A')\n",
        "session.add(new_student)\n",
        "\n",
        "session.commit()"
      ],
      "metadata": {
        "colab": {
          "base_uri": "https://localhost:8080/"
        },
        "id": "h_9OLggCQ7lD",
        "outputId": "c7ea494c-81eb-45ed-8772-cfe26efa49fe"
      },
      "execution_count": 3,
      "outputs": [
        {
          "output_type": "stream",
          "name": "stdout",
          "text": [
            "2022-08-30 06:01:13,621 INFO sqlalchemy.engine.Engine INSERT INTO \"TB2103\" (sid, name, grade) VALUES (?, ?, ?)\n"
          ]
        },
        {
          "output_type": "stream",
          "name": "stderr",
          "text": [
            "INFO:sqlalchemy.engine.Engine:INSERT INTO \"TB2103\" (sid, name, grade) VALUES (?, ?, ?)\n"
          ]
        },
        {
          "output_type": "stream",
          "name": "stdout",
          "text": [
            "2022-08-30 06:01:13,630 INFO sqlalchemy.engine.Engine [generated in 0.00832s] (2002103, 'John', 'A')\n"
          ]
        },
        {
          "output_type": "stream",
          "name": "stderr",
          "text": [
            "INFO:sqlalchemy.engine.Engine:[generated in 0.00832s] (2002103, 'John', 'A')\n"
          ]
        },
        {
          "output_type": "stream",
          "name": "stdout",
          "text": [
            "2022-08-30 06:01:13,632 INFO sqlalchemy.engine.Engine COMMIT\n"
          ]
        },
        {
          "output_type": "stream",
          "name": "stderr",
          "text": [
            "INFO:sqlalchemy.engine.Engine:COMMIT\n"
          ]
        }
      ]
    },
    {
      "cell_type": "code",
      "source": [
        "session.add_all([\n",
        "    CLS2223T1(sid = 2002345, name='Sansa Stark', grade='NA'),\n",
        "    CLS2223T1(sid = 2002346, name='Jon Snow', grade='NA')  \n",
        "    ]\n",
        ")\n",
        "\n",
        "session.commit()\n",
        "\n",
        "for instance in session.query(CLS2223T1):\n",
        "    print(\"Student:\" , instance.sid, instance.name, instance.grade)"
      ],
      "metadata": {
        "colab": {
          "base_uri": "https://localhost:8080/"
        },
        "id": "WkuRAKeGRldO",
        "outputId": "8192ea41-0861-4b0f-9d6f-55a6a3f2e44a"
      },
      "execution_count": 4,
      "outputs": [
        {
          "output_type": "stream",
          "name": "stdout",
          "text": [
            "2022-08-30 06:01:13,642 INFO sqlalchemy.engine.Engine BEGIN (implicit)\n"
          ]
        },
        {
          "output_type": "stream",
          "name": "stderr",
          "text": [
            "INFO:sqlalchemy.engine.Engine:BEGIN (implicit)\n"
          ]
        },
        {
          "output_type": "stream",
          "name": "stdout",
          "text": [
            "2022-08-30 06:01:13,650 INFO sqlalchemy.engine.Engine INSERT INTO \"TB2103\" (sid, name, grade) VALUES (?, ?, ?)\n"
          ]
        },
        {
          "output_type": "stream",
          "name": "stderr",
          "text": [
            "INFO:sqlalchemy.engine.Engine:INSERT INTO \"TB2103\" (sid, name, grade) VALUES (?, ?, ?)\n"
          ]
        },
        {
          "output_type": "stream",
          "name": "stdout",
          "text": [
            "2022-08-30 06:01:13,656 INFO sqlalchemy.engine.Engine [generated in 0.00545s] ((2002345, 'Sansa Stark', 'NA'), (2002346, 'Jon Snow', 'NA'))\n"
          ]
        },
        {
          "output_type": "stream",
          "name": "stderr",
          "text": [
            "INFO:sqlalchemy.engine.Engine:[generated in 0.00545s] ((2002345, 'Sansa Stark', 'NA'), (2002346, 'Jon Snow', 'NA'))\n"
          ]
        },
        {
          "output_type": "stream",
          "name": "stdout",
          "text": [
            "2022-08-30 06:01:13,663 INFO sqlalchemy.engine.Engine COMMIT\n"
          ]
        },
        {
          "output_type": "stream",
          "name": "stderr",
          "text": [
            "INFO:sqlalchemy.engine.Engine:COMMIT\n"
          ]
        },
        {
          "output_type": "stream",
          "name": "stdout",
          "text": [
            "2022-08-30 06:01:13,669 INFO sqlalchemy.engine.Engine BEGIN (implicit)\n"
          ]
        },
        {
          "output_type": "stream",
          "name": "stderr",
          "text": [
            "INFO:sqlalchemy.engine.Engine:BEGIN (implicit)\n"
          ]
        },
        {
          "output_type": "stream",
          "name": "stdout",
          "text": [
            "2022-08-30 06:01:13,688 INFO sqlalchemy.engine.Engine SELECT \"TB2103\".sid AS \"TB2103_sid\", \"TB2103\".name AS \"TB2103_name\", \"TB2103\".grade AS \"TB2103_grade\" \n",
            "FROM \"TB2103\"\n"
          ]
        },
        {
          "output_type": "stream",
          "name": "stderr",
          "text": [
            "INFO:sqlalchemy.engine.Engine:SELECT \"TB2103\".sid AS \"TB2103_sid\", \"TB2103\".name AS \"TB2103_name\", \"TB2103\".grade AS \"TB2103_grade\" \n",
            "FROM \"TB2103\"\n"
          ]
        },
        {
          "output_type": "stream",
          "name": "stdout",
          "text": [
            "2022-08-30 06:01:13,694 INFO sqlalchemy.engine.Engine [cached since 0.09324s ago] ()\n"
          ]
        },
        {
          "output_type": "stream",
          "name": "stderr",
          "text": [
            "INFO:sqlalchemy.engine.Engine:[cached since 0.09324s ago] ()\n"
          ]
        },
        {
          "output_type": "stream",
          "name": "stdout",
          "text": [
            "Student: 2002103 John A\n",
            "Student: 2002345 Sansa Stark NA\n",
            "Student: 2002346 Jon Snow NA\n"
          ]
        }
      ]
    },
    {
      "cell_type": "code",
      "source": [
        "# updating_one = session.query(CLS2223T1).filter_by(name='Jon Snow').first()\n",
        "\n",
        "# stmt = (\n",
        "#         update(CLS2223T1).\n",
        "#         where(CLS2223T1.sid == 2003456).\n",
        "#         values(grade='A-')\n",
        "\n",
        "# )\n",
        "\n",
        "updating_one = session.query(CLS2223T1).filter_by(name='Jon Snow').first()\n",
        "updating_one.grade = 'A-'\n",
        "\n",
        "session.commit()\n",
        "for instance in session.query(CLS2223T1):\n",
        "    print(\"Student:\" , instance.sid, instance.name, instance.grade)\n"
      ],
      "metadata": {
        "colab": {
          "base_uri": "https://localhost:8080/"
        },
        "id": "dzMI9cRCTIph",
        "outputId": "22ec4ae8-7d18-48e0-c35c-49fbfc34c43a"
      },
      "execution_count": 5,
      "outputs": [
        {
          "output_type": "stream",
          "name": "stdout",
          "text": [
            "2022-08-30 06:01:13,718 INFO sqlalchemy.engine.Engine SELECT \"TB2103\".sid AS \"TB2103_sid\", \"TB2103\".name AS \"TB2103_name\", \"TB2103\".grade AS \"TB2103_grade\" \n",
            "FROM \"TB2103\" \n",
            "WHERE \"TB2103\".name = ?\n",
            " LIMIT ? OFFSET ?\n"
          ]
        },
        {
          "output_type": "stream",
          "name": "stderr",
          "text": [
            "INFO:sqlalchemy.engine.Engine:SELECT \"TB2103\".sid AS \"TB2103_sid\", \"TB2103\".name AS \"TB2103_name\", \"TB2103\".grade AS \"TB2103_grade\" \n",
            "FROM \"TB2103\" \n",
            "WHERE \"TB2103\".name = ?\n",
            " LIMIT ? OFFSET ?\n"
          ]
        },
        {
          "output_type": "stream",
          "name": "stdout",
          "text": [
            "2022-08-30 06:01:13,729 INFO sqlalchemy.engine.Engine [generated in 0.01131s] ('Jon Snow', 1, 0)\n"
          ]
        },
        {
          "output_type": "stream",
          "name": "stderr",
          "text": [
            "INFO:sqlalchemy.engine.Engine:[generated in 0.01131s] ('Jon Snow', 1, 0)\n"
          ]
        },
        {
          "output_type": "stream",
          "name": "stdout",
          "text": [
            "2022-08-30 06:01:13,737 INFO sqlalchemy.engine.Engine UPDATE \"TB2103\" SET grade=? WHERE \"TB2103\".sid = ?\n"
          ]
        },
        {
          "output_type": "stream",
          "name": "stderr",
          "text": [
            "INFO:sqlalchemy.engine.Engine:UPDATE \"TB2103\" SET grade=? WHERE \"TB2103\".sid = ?\n"
          ]
        },
        {
          "output_type": "stream",
          "name": "stdout",
          "text": [
            "2022-08-30 06:01:13,746 INFO sqlalchemy.engine.Engine [generated in 0.00858s] ('A-', 2002346)\n"
          ]
        },
        {
          "output_type": "stream",
          "name": "stderr",
          "text": [
            "INFO:sqlalchemy.engine.Engine:[generated in 0.00858s] ('A-', 2002346)\n"
          ]
        },
        {
          "output_type": "stream",
          "name": "stdout",
          "text": [
            "2022-08-30 06:01:13,750 INFO sqlalchemy.engine.Engine COMMIT\n"
          ]
        },
        {
          "output_type": "stream",
          "name": "stderr",
          "text": [
            "INFO:sqlalchemy.engine.Engine:COMMIT\n"
          ]
        },
        {
          "output_type": "stream",
          "name": "stdout",
          "text": [
            "2022-08-30 06:01:13,759 INFO sqlalchemy.engine.Engine BEGIN (implicit)\n"
          ]
        },
        {
          "output_type": "stream",
          "name": "stderr",
          "text": [
            "INFO:sqlalchemy.engine.Engine:BEGIN (implicit)\n"
          ]
        },
        {
          "output_type": "stream",
          "name": "stdout",
          "text": [
            "2022-08-30 06:01:13,762 INFO sqlalchemy.engine.Engine SELECT \"TB2103\".sid AS \"TB2103_sid\", \"TB2103\".name AS \"TB2103_name\", \"TB2103\".grade AS \"TB2103_grade\" \n",
            "FROM \"TB2103\"\n"
          ]
        },
        {
          "output_type": "stream",
          "name": "stderr",
          "text": [
            "INFO:sqlalchemy.engine.Engine:SELECT \"TB2103\".sid AS \"TB2103_sid\", \"TB2103\".name AS \"TB2103_name\", \"TB2103\".grade AS \"TB2103_grade\" \n",
            "FROM \"TB2103\"\n"
          ]
        },
        {
          "output_type": "stream",
          "name": "stdout",
          "text": [
            "2022-08-30 06:01:13,766 INFO sqlalchemy.engine.Engine [cached since 0.1654s ago] ()\n"
          ]
        },
        {
          "output_type": "stream",
          "name": "stderr",
          "text": [
            "INFO:sqlalchemy.engine.Engine:[cached since 0.1654s ago] ()\n"
          ]
        },
        {
          "output_type": "stream",
          "name": "stdout",
          "text": [
            "Student: 2002103 John A\n",
            "Student: 2002345 Sansa Stark NA\n",
            "Student: 2002346 Jon Snow A-\n"
          ]
        }
      ]
    },
    {
      "cell_type": "code",
      "source": [
        "updating_two = session.query(CLS2223T1).filter_by(name='John').first()\n",
        "updating_two.grade = 'A+'\n",
        "\n",
        "session.commit()\n",
        "for instance in session.query(CLS2223T1):\n",
        "    print(\"Student:\" , instance.sid, instance.name, instance.grade)"
      ],
      "metadata": {
        "colab": {
          "base_uri": "https://localhost:8080/"
        },
        "id": "-fCWaMtSU1bC",
        "outputId": "bfb25a23-a54c-464b-bc37-60b4d93df5ca"
      },
      "execution_count": 6,
      "outputs": [
        {
          "output_type": "stream",
          "name": "stdout",
          "text": [
            "2022-08-30 06:01:13,791 INFO sqlalchemy.engine.Engine SELECT \"TB2103\".sid AS \"TB2103_sid\", \"TB2103\".name AS \"TB2103_name\", \"TB2103\".grade AS \"TB2103_grade\" \n",
            "FROM \"TB2103\" \n",
            "WHERE \"TB2103\".name = ?\n",
            " LIMIT ? OFFSET ?\n"
          ]
        },
        {
          "output_type": "stream",
          "name": "stderr",
          "text": [
            "INFO:sqlalchemy.engine.Engine:SELECT \"TB2103\".sid AS \"TB2103_sid\", \"TB2103\".name AS \"TB2103_name\", \"TB2103\".grade AS \"TB2103_grade\" \n",
            "FROM \"TB2103\" \n",
            "WHERE \"TB2103\".name = ?\n",
            " LIMIT ? OFFSET ?\n"
          ]
        },
        {
          "output_type": "stream",
          "name": "stdout",
          "text": [
            "2022-08-30 06:01:13,804 INFO sqlalchemy.engine.Engine [cached since 0.08608s ago] ('John', 1, 0)\n"
          ]
        },
        {
          "output_type": "stream",
          "name": "stderr",
          "text": [
            "INFO:sqlalchemy.engine.Engine:[cached since 0.08608s ago] ('John', 1, 0)\n"
          ]
        },
        {
          "output_type": "stream",
          "name": "stdout",
          "text": [
            "2022-08-30 06:01:13,809 INFO sqlalchemy.engine.Engine UPDATE \"TB2103\" SET grade=? WHERE \"TB2103\".sid = ?\n"
          ]
        },
        {
          "output_type": "stream",
          "name": "stderr",
          "text": [
            "INFO:sqlalchemy.engine.Engine:UPDATE \"TB2103\" SET grade=? WHERE \"TB2103\".sid = ?\n"
          ]
        },
        {
          "output_type": "stream",
          "name": "stdout",
          "text": [
            "2022-08-30 06:01:13,812 INFO sqlalchemy.engine.Engine [cached since 0.075s ago] ('A+', 2002103)\n"
          ]
        },
        {
          "output_type": "stream",
          "name": "stderr",
          "text": [
            "INFO:sqlalchemy.engine.Engine:[cached since 0.075s ago] ('A+', 2002103)\n"
          ]
        },
        {
          "output_type": "stream",
          "name": "stdout",
          "text": [
            "2022-08-30 06:01:13,816 INFO sqlalchemy.engine.Engine COMMIT\n"
          ]
        },
        {
          "output_type": "stream",
          "name": "stderr",
          "text": [
            "INFO:sqlalchemy.engine.Engine:COMMIT\n"
          ]
        },
        {
          "output_type": "stream",
          "name": "stdout",
          "text": [
            "2022-08-30 06:01:13,819 INFO sqlalchemy.engine.Engine BEGIN (implicit)\n"
          ]
        },
        {
          "output_type": "stream",
          "name": "stderr",
          "text": [
            "INFO:sqlalchemy.engine.Engine:BEGIN (implicit)\n"
          ]
        },
        {
          "output_type": "stream",
          "name": "stdout",
          "text": [
            "2022-08-30 06:01:13,823 INFO sqlalchemy.engine.Engine SELECT \"TB2103\".sid AS \"TB2103_sid\", \"TB2103\".name AS \"TB2103_name\", \"TB2103\".grade AS \"TB2103_grade\" \n",
            "FROM \"TB2103\"\n"
          ]
        },
        {
          "output_type": "stream",
          "name": "stderr",
          "text": [
            "INFO:sqlalchemy.engine.Engine:SELECT \"TB2103\".sid AS \"TB2103_sid\", \"TB2103\".name AS \"TB2103_name\", \"TB2103\".grade AS \"TB2103_grade\" \n",
            "FROM \"TB2103\"\n"
          ]
        },
        {
          "output_type": "stream",
          "name": "stdout",
          "text": [
            "2022-08-30 06:01:13,826 INFO sqlalchemy.engine.Engine [cached since 0.2254s ago] ()\n"
          ]
        },
        {
          "output_type": "stream",
          "name": "stderr",
          "text": [
            "INFO:sqlalchemy.engine.Engine:[cached since 0.2254s ago] ()\n"
          ]
        },
        {
          "output_type": "stream",
          "name": "stdout",
          "text": [
            "Student: 2002103 John A+\n",
            "Student: 2002345 Sansa Stark NA\n",
            "Student: 2002346 Jon Snow A-\n"
          ]
        }
      ]
    },
    {
      "cell_type": "code",
      "source": [
        "deleting_one = session.query(CLS2223T1).filter_by(name='Sansa Stark').first()\n",
        "session.delete(deleting_one)\n",
        "\n",
        "session.commit()\n",
        "\n",
        "for instance in session.query(CLS2223T1):\n",
        "    print(\"Student:\" , instance.sid, instance.name, instance.grade)"
      ],
      "metadata": {
        "colab": {
          "base_uri": "https://localhost:8080/"
        },
        "id": "t6qhZLfnVFxS",
        "outputId": "ac9a5681-c683-4fd5-8132-e652e8737b73"
      },
      "execution_count": 7,
      "outputs": [
        {
          "output_type": "stream",
          "name": "stdout",
          "text": [
            "2022-08-30 06:01:13,841 INFO sqlalchemy.engine.Engine SELECT \"TB2103\".sid AS \"TB2103_sid\", \"TB2103\".name AS \"TB2103_name\", \"TB2103\".grade AS \"TB2103_grade\" \n",
            "FROM \"TB2103\" \n",
            "WHERE \"TB2103\".name = ?\n",
            " LIMIT ? OFFSET ?\n"
          ]
        },
        {
          "output_type": "stream",
          "name": "stderr",
          "text": [
            "INFO:sqlalchemy.engine.Engine:SELECT \"TB2103\".sid AS \"TB2103_sid\", \"TB2103\".name AS \"TB2103_name\", \"TB2103\".grade AS \"TB2103_grade\" \n",
            "FROM \"TB2103\" \n",
            "WHERE \"TB2103\".name = ?\n",
            " LIMIT ? OFFSET ?\n"
          ]
        },
        {
          "output_type": "stream",
          "name": "stdout",
          "text": [
            "2022-08-30 06:01:13,846 INFO sqlalchemy.engine.Engine [cached since 0.1274s ago] ('Sansa Stark', 1, 0)\n"
          ]
        },
        {
          "output_type": "stream",
          "name": "stderr",
          "text": [
            "INFO:sqlalchemy.engine.Engine:[cached since 0.1274s ago] ('Sansa Stark', 1, 0)\n"
          ]
        },
        {
          "output_type": "stream",
          "name": "stdout",
          "text": [
            "2022-08-30 06:01:13,850 INFO sqlalchemy.engine.Engine DELETE FROM \"TB2103\" WHERE \"TB2103\".sid = ?\n"
          ]
        },
        {
          "output_type": "stream",
          "name": "stderr",
          "text": [
            "INFO:sqlalchemy.engine.Engine:DELETE FROM \"TB2103\" WHERE \"TB2103\".sid = ?\n"
          ]
        },
        {
          "output_type": "stream",
          "name": "stdout",
          "text": [
            "2022-08-30 06:01:13,854 INFO sqlalchemy.engine.Engine [generated in 0.00340s] (2002345,)\n"
          ]
        },
        {
          "output_type": "stream",
          "name": "stderr",
          "text": [
            "INFO:sqlalchemy.engine.Engine:[generated in 0.00340s] (2002345,)\n"
          ]
        },
        {
          "output_type": "stream",
          "name": "stdout",
          "text": [
            "2022-08-30 06:01:13,857 INFO sqlalchemy.engine.Engine COMMIT\n"
          ]
        },
        {
          "output_type": "stream",
          "name": "stderr",
          "text": [
            "INFO:sqlalchemy.engine.Engine:COMMIT\n"
          ]
        },
        {
          "output_type": "stream",
          "name": "stdout",
          "text": [
            "2022-08-30 06:01:13,861 INFO sqlalchemy.engine.Engine BEGIN (implicit)\n"
          ]
        },
        {
          "output_type": "stream",
          "name": "stderr",
          "text": [
            "INFO:sqlalchemy.engine.Engine:BEGIN (implicit)\n"
          ]
        },
        {
          "output_type": "stream",
          "name": "stdout",
          "text": [
            "2022-08-30 06:01:13,865 INFO sqlalchemy.engine.Engine SELECT \"TB2103\".sid AS \"TB2103_sid\", \"TB2103\".name AS \"TB2103_name\", \"TB2103\".grade AS \"TB2103_grade\" \n",
            "FROM \"TB2103\"\n"
          ]
        },
        {
          "output_type": "stream",
          "name": "stderr",
          "text": [
            "INFO:sqlalchemy.engine.Engine:SELECT \"TB2103\".sid AS \"TB2103_sid\", \"TB2103\".name AS \"TB2103_name\", \"TB2103\".grade AS \"TB2103_grade\" \n",
            "FROM \"TB2103\"\n"
          ]
        },
        {
          "output_type": "stream",
          "name": "stdout",
          "text": [
            "2022-08-30 06:01:13,868 INFO sqlalchemy.engine.Engine [cached since 0.2671s ago] ()\n"
          ]
        },
        {
          "output_type": "stream",
          "name": "stderr",
          "text": [
            "INFO:sqlalchemy.engine.Engine:[cached since 0.2671s ago] ()\n"
          ]
        },
        {
          "output_type": "stream",
          "name": "stdout",
          "text": [
            "Student: 2002103 John A+\n",
            "Student: 2002346 Jon Snow A-\n"
          ]
        }
      ]
    },
    {
      "cell_type": "code",
      "source": [
        "delete_count = session.query(CLS2223T1).count()\n",
        "\n",
        "for i in range(delete_count):\n",
        "  deleting = session.query(CLS2223T1).first()\n",
        "  session.delete(deleting)\n",
        "\n",
        "for instance in session.query(CLS2223T1):\n",
        "    print(\"Student:\" , instance.sid, instance.name, instance.grade)"
      ],
      "metadata": {
        "colab": {
          "base_uri": "https://localhost:8080/"
        },
        "id": "HBORipy6TUCh",
        "outputId": "7c591b7c-6ec4-4762-dcec-eaed9cd1c9ac"
      },
      "execution_count": 8,
      "outputs": [
        {
          "output_type": "stream",
          "name": "stdout",
          "text": [
            "2022-08-30 06:01:13,884 INFO sqlalchemy.engine.Engine SELECT count(*) AS count_1 \n",
            "FROM (SELECT \"TB2103\".sid AS \"TB2103_sid\", \"TB2103\".name AS \"TB2103_name\", \"TB2103\".grade AS \"TB2103_grade\" \n",
            "FROM \"TB2103\") AS anon_1\n"
          ]
        },
        {
          "output_type": "stream",
          "name": "stderr",
          "text": [
            "INFO:sqlalchemy.engine.Engine:SELECT count(*) AS count_1 \n",
            "FROM (SELECT \"TB2103\".sid AS \"TB2103_sid\", \"TB2103\".name AS \"TB2103_name\", \"TB2103\".grade AS \"TB2103_grade\" \n",
            "FROM \"TB2103\") AS anon_1\n"
          ]
        },
        {
          "output_type": "stream",
          "name": "stdout",
          "text": [
            "2022-08-30 06:01:13,893 INFO sqlalchemy.engine.Engine [generated in 0.00854s] ()\n"
          ]
        },
        {
          "output_type": "stream",
          "name": "stderr",
          "text": [
            "INFO:sqlalchemy.engine.Engine:[generated in 0.00854s] ()\n"
          ]
        },
        {
          "output_type": "stream",
          "name": "stdout",
          "text": [
            "2022-08-30 06:01:13,897 INFO sqlalchemy.engine.Engine SELECT \"TB2103\".sid AS \"TB2103_sid\", \"TB2103\".name AS \"TB2103_name\", \"TB2103\".grade AS \"TB2103_grade\" \n",
            "FROM \"TB2103\"\n",
            " LIMIT ? OFFSET ?\n"
          ]
        },
        {
          "output_type": "stream",
          "name": "stderr",
          "text": [
            "INFO:sqlalchemy.engine.Engine:SELECT \"TB2103\".sid AS \"TB2103_sid\", \"TB2103\".name AS \"TB2103_name\", \"TB2103\".grade AS \"TB2103_grade\" \n",
            "FROM \"TB2103\"\n",
            " LIMIT ? OFFSET ?\n"
          ]
        },
        {
          "output_type": "stream",
          "name": "stdout",
          "text": [
            "2022-08-30 06:01:13,899 INFO sqlalchemy.engine.Engine [generated in 0.00276s] (1, 0)\n"
          ]
        },
        {
          "output_type": "stream",
          "name": "stderr",
          "text": [
            "INFO:sqlalchemy.engine.Engine:[generated in 0.00276s] (1, 0)\n"
          ]
        },
        {
          "output_type": "stream",
          "name": "stdout",
          "text": [
            "2022-08-30 06:01:13,904 INFO sqlalchemy.engine.Engine DELETE FROM \"TB2103\" WHERE \"TB2103\".sid = ?\n"
          ]
        },
        {
          "output_type": "stream",
          "name": "stderr",
          "text": [
            "INFO:sqlalchemy.engine.Engine:DELETE FROM \"TB2103\" WHERE \"TB2103\".sid = ?\n"
          ]
        },
        {
          "output_type": "stream",
          "name": "stdout",
          "text": [
            "2022-08-30 06:01:13,906 INFO sqlalchemy.engine.Engine [cached since 0.05599s ago] (2002103,)\n"
          ]
        },
        {
          "output_type": "stream",
          "name": "stderr",
          "text": [
            "INFO:sqlalchemy.engine.Engine:[cached since 0.05599s ago] (2002103,)\n"
          ]
        },
        {
          "output_type": "stream",
          "name": "stdout",
          "text": [
            "2022-08-30 06:01:13,909 INFO sqlalchemy.engine.Engine SELECT \"TB2103\".sid AS \"TB2103_sid\", \"TB2103\".name AS \"TB2103_name\", \"TB2103\".grade AS \"TB2103_grade\" \n",
            "FROM \"TB2103\"\n",
            " LIMIT ? OFFSET ?\n"
          ]
        },
        {
          "output_type": "stream",
          "name": "stderr",
          "text": [
            "INFO:sqlalchemy.engine.Engine:SELECT \"TB2103\".sid AS \"TB2103_sid\", \"TB2103\".name AS \"TB2103_name\", \"TB2103\".grade AS \"TB2103_grade\" \n",
            "FROM \"TB2103\"\n",
            " LIMIT ? OFFSET ?\n"
          ]
        },
        {
          "output_type": "stream",
          "name": "stdout",
          "text": [
            "2022-08-30 06:01:13,911 INFO sqlalchemy.engine.Engine [cached since 0.01448s ago] (1, 0)\n"
          ]
        },
        {
          "output_type": "stream",
          "name": "stderr",
          "text": [
            "INFO:sqlalchemy.engine.Engine:[cached since 0.01448s ago] (1, 0)\n"
          ]
        },
        {
          "output_type": "stream",
          "name": "stdout",
          "text": [
            "2022-08-30 06:01:13,914 INFO sqlalchemy.engine.Engine DELETE FROM \"TB2103\" WHERE \"TB2103\".sid = ?\n"
          ]
        },
        {
          "output_type": "stream",
          "name": "stderr",
          "text": [
            "INFO:sqlalchemy.engine.Engine:DELETE FROM \"TB2103\" WHERE \"TB2103\".sid = ?\n"
          ]
        },
        {
          "output_type": "stream",
          "name": "stdout",
          "text": [
            "2022-08-30 06:01:13,916 INFO sqlalchemy.engine.Engine [cached since 0.06601s ago] (2002346,)\n"
          ]
        },
        {
          "output_type": "stream",
          "name": "stderr",
          "text": [
            "INFO:sqlalchemy.engine.Engine:[cached since 0.06601s ago] (2002346,)\n"
          ]
        },
        {
          "output_type": "stream",
          "name": "stdout",
          "text": [
            "2022-08-30 06:01:13,919 INFO sqlalchemy.engine.Engine SELECT \"TB2103\".sid AS \"TB2103_sid\", \"TB2103\".name AS \"TB2103_name\", \"TB2103\".grade AS \"TB2103_grade\" \n",
            "FROM \"TB2103\"\n"
          ]
        },
        {
          "output_type": "stream",
          "name": "stderr",
          "text": [
            "INFO:sqlalchemy.engine.Engine:SELECT \"TB2103\".sid AS \"TB2103_sid\", \"TB2103\".name AS \"TB2103_name\", \"TB2103\".grade AS \"TB2103_grade\" \n",
            "FROM \"TB2103\"\n"
          ]
        },
        {
          "output_type": "stream",
          "name": "stdout",
          "text": [
            "2022-08-30 06:01:13,921 INFO sqlalchemy.engine.Engine [cached since 0.3203s ago] ()\n"
          ]
        },
        {
          "output_type": "stream",
          "name": "stderr",
          "text": [
            "INFO:sqlalchemy.engine.Engine:[cached since 0.3203s ago] ()\n"
          ]
        }
      ]
    }
  ]
}