{
 "cells": [
  {
   "cell_type": "code",
   "execution_count": 53,
   "metadata": {},
   "outputs": [],
   "source": [
    "import sqlite3\n",
    "conn = sqlite3.connect(\"music2101446.sqlite\")\n",
    "cursor = conn.cursor()\n",
    "\n",
    "\n",
    "cursor.execute(''' DROP TABLE IF EXISTS Tracks ''')\n",
    "conn.commit()\n",
    "\n",
    "stmt = '''\n",
    "\n",
    "CREATE TABLE TRACKS\n",
    "(\n",
    "    title text not null,\n",
    "    plays int not null\n",
    "\n",
    ")\n",
    "'''\n",
    "\n",
    "cursor.execute(stmt)\n",
    "\n",
    "conn.commit()"
   ]
  },
  {
   "cell_type": "code",
   "execution_count": 54,
   "metadata": {},
   "outputs": [],
   "source": [
    "\n",
    "\n",
    "stmt = ''' \n",
    "INSERT INTO Tracks(title,plays)\n",
    "VALUES('Save Your Tears',20)\n",
    "'''\n",
    "\n",
    "cursor.execute(stmt)\n",
    "\n",
    "stmt = ''' \n",
    "INSERT INTO Tracks(title,plays)\n",
    "VALUES('Levitating',15)\n",
    "'''\n",
    "\n",
    "cursor.execute(stmt)\n",
    "\n",
    "conn.commit()\n"
   ]
  },
  {
   "cell_type": "code",
   "execution_count": 55,
   "metadata": {},
   "outputs": [
    {
     "name": "stdout",
     "output_type": "stream",
     "text": [
      "('Save Your Tears', 20)\n",
      "('Levitating', 15)\n"
     ]
    }
   ],
   "source": [
    "stmt = ''' \n",
    "\n",
    "SELECT * FROM Tracks\n",
    "\n",
    "'''\n",
    "\n",
    "cursor.execute(stmt)\n",
    "results = cursor.fetchall()\n",
    "\n",
    "for row in results:\n",
    "    print(row)\n"
   ]
  },
  {
   "cell_type": "code",
   "execution_count": 56,
   "metadata": {},
   "outputs": [
    {
     "name": "stdout",
     "output_type": "stream",
     "text": [
      "('Save Your Tears', 20)\n"
     ]
    }
   ],
   "source": [
    "stmt = ''' \n",
    "\n",
    "SELECT * FROM Tracks\n",
    "\n",
    "'''\n",
    "\n",
    "cursor.execute(stmt)\n",
    "results = cursor.fetchone()\n",
    "\n",
    "print(results)"
   ]
  },
  {
   "cell_type": "code",
   "execution_count": 57,
   "metadata": {},
   "outputs": [
    {
     "name": "stdout",
     "output_type": "stream",
     "text": [
      "[('Save Your Tears', 20), ('Levitating', 15)]\n"
     ]
    }
   ],
   "source": [
    "stmt = ''' \n",
    "\n",
    "SELECT * FROM Tracks\n",
    "\n",
    "'''\n",
    "\n",
    "cursor.execute(stmt)\n",
    "results = cursor.fetchall()\n",
    "\n",
    "print(results)"
   ]
  },
  {
   "cell_type": "code",
   "execution_count": 58,
   "metadata": {},
   "outputs": [
    {
     "name": "stdout",
     "output_type": "stream",
     "text": [
      "[('Save Your Tears', 5), ('Levitating', 15)]\n"
     ]
    }
   ],
   "source": [
    "stmt = ''' \n",
    "\n",
    "UPDATE Tracks\n",
    "SET Plays = 5\n",
    "WHERE title = 'Save Your Tears'\n",
    "\n",
    "'''\n",
    "\n",
    "cursor.execute(stmt)\n",
    "conn.commit()\n",
    "\n",
    "\n",
    "cursor.execute(''' SELECT * FROM Tracks ''')\n",
    "print(cursor.fetchall())"
   ]
  },
  {
   "cell_type": "code",
   "execution_count": 59,
   "metadata": {},
   "outputs": [
    {
     "name": "stdout",
     "output_type": "stream",
     "text": [
      "[('Levitating', 15)]\n"
     ]
    }
   ],
   "source": [
    "stmt = ''' \n",
    "\n",
    "DELETE FROM Tracks\n",
    "WHERE plays = 5\n",
    "\n",
    "'''\n",
    "\n",
    "cursor.execute(stmt)\n",
    "conn.commit()\n",
    "\n",
    "\n",
    "cursor.execute(''' SELECT * FROM Tracks ''')\n",
    "print(cursor.fetchall())\n",
    "\n",
    "conn.close()"
   ]
  },
  {
   "cell_type": "code",
   "execution_count": 61,
   "metadata": {},
   "outputs": [
    {
     "name": "stdout",
     "output_type": "stream",
     "text": [
      "(1, 'Arya')\n",
      "(2, 'Jon')\n",
      "(3, 'Robb')\n",
      "(4, 'Wilson')\n"
     ]
    }
   ],
   "source": [
    "conn = sqlite3.connect(\"order.db\")\n",
    "cursor = conn.cursor()\n",
    "\n",
    "cursor.execute(''' DROP TABLE IF EXISTS customers ''')\n",
    "cursor.execute(''' DROP TABLE IF EXISTS orders ''')\n",
    "conn.commit()\n",
    "\n",
    "stmt = '''\n",
    "\n",
    "CREATE TABLE customers\n",
    "(\n",
    "    customer_id int primary key,\n",
    "    customer_name text\n",
    "\n",
    ")\n",
    "'''\n",
    "\n",
    "cursor.execute(stmt)\n",
    "\n",
    "stmt = '''\n",
    "\n",
    "CREATE TABLE orders\n",
    "(\n",
    "    order_id text primary key,\n",
    "    customer_id int,\n",
    "    amount double,\n",
    "    foreign key (customer_id)\n",
    "        references customers(customer_id)\n",
    "\n",
    ")\n",
    "'''\n",
    "\n",
    "cursor.execute(stmt)\n",
    "\n",
    "conn.commit()\n",
    "\n",
    "\n",
    "stmt = ''' \n",
    "INSERT INTO customers(customer_id,customer_name)\n",
    "VALUES(1,'Arya')\n",
    "'''\n",
    "cursor.execute(stmt)\n",
    "\n",
    "stmt = ''' \n",
    "INSERT INTO customers(customer_id,customer_name)\n",
    "VALUES(2,'Jon')\n",
    "'''\n",
    "cursor.execute(stmt)\n",
    "\n",
    "stmt = ''' \n",
    "INSERT INTO customers(customer_id,customer_name)\n",
    "VALUES(3,'Robb')\n",
    "'''\n",
    "cursor.execute(stmt)\n",
    "\n",
    "stmt = ''' \n",
    "INSERT INTO customers(customer_id,customer_name)\n",
    "VALUES(4,'Wilson')\n",
    "'''\n",
    "cursor.execute(stmt)\n",
    "\n",
    "conn.commit()\n",
    "\n",
    "cursor.execute('''  SELECT * FROM customers ''')\n",
    "result = cursor.fetchall()\n",
    "\n",
    "for row in result:\n",
    "    print(row)"
   ]
  },
  {
   "cell_type": "code",
   "execution_count": 62,
   "metadata": {},
   "outputs": [
    {
     "name": "stdout",
     "output_type": "stream",
     "text": [
      "('O1', 1, 19.99)\n",
      "('O2', 1, 66.66)\n",
      "('O3', 3, 17.56)\n",
      "('O4', 4, 88.88)\n"
     ]
    }
   ],
   "source": [
    "stmt = ''' \n",
    "INSERT INTO orders(order_id,customer_id,amount)\n",
    "VALUES('O1',1,19.99)\n",
    "'''\n",
    "cursor.execute(stmt)\n",
    "\n",
    "stmt = ''' \n",
    "INSERT INTO orders(order_id,customer_id,amount)\n",
    "VALUES('O2',1,66.66)\n",
    "'''\n",
    "cursor.execute(stmt)\n",
    "\n",
    "stmt = ''' \n",
    "INSERT INTO orders(order_id,customer_id,amount)\n",
    "VALUES('O3',3,17.56)\n",
    "'''\n",
    "cursor.execute(stmt)\n",
    "\n",
    "stmt = ''' \n",
    "INSERT INTO orders(order_id,customer_id,amount)\n",
    "VALUES('O4',4,88.88)\n",
    "'''\n",
    "cursor.execute(stmt)\n",
    "\n",
    "\n",
    "conn.commit()\n",
    "\n",
    "cursor.execute('''  SELECT * FROM orders ''')\n",
    "result = cursor.fetchall()\n",
    "\n",
    "for row in result:\n",
    "    print(row)"
   ]
  },
  {
   "cell_type": "code",
   "execution_count": 63,
   "metadata": {},
   "outputs": [
    {
     "name": "stdout",
     "output_type": "stream",
     "text": [
      "(1, 'Arya', 'O1', 1, 19.99)\n",
      "(1, 'Arya', 'O2', 1, 66.66)\n",
      "(3, 'Robb', 'O3', 3, 17.56)\n",
      "(4, 'Wilson', 'O4', 4, 88.88)\n"
     ]
    }
   ],
   "source": [
    "stmt = ''' \n",
    "\n",
    "SELECT * FROM customers \n",
    "INNER JOIN orders\n",
    "ON customers.customer_id = orders.customer_id\n",
    "\n",
    "'''\n",
    "\n",
    "cursor.execute(stmt)\n",
    "result = cursor.fetchall()\n",
    "\n",
    "for row in result:\n",
    "    print(row)"
   ]
  },
  {
   "cell_type": "code",
   "execution_count": 64,
   "metadata": {},
   "outputs": [
    {
     "name": "stdout",
     "output_type": "stream",
     "text": [
      "('Arya', 'O1')\n",
      "('Arya', 'O2')\n",
      "('Robb', 'O3')\n",
      "('Wilson', 'O4')\n"
     ]
    }
   ],
   "source": [
    "stmt = ''' \n",
    "\n",
    "SELECT customer_name, order_id FROM customers \n",
    "INNER JOIN orders\n",
    "ON customers.customer_id = orders.customer_id\n",
    "WHERE orders.amount > 15\n",
    "\n",
    "'''\n",
    "\n",
    "cursor.execute(stmt)\n",
    "result = cursor.fetchall()\n",
    "\n",
    "for row in result:\n",
    "    print(row)"
   ]
  }
 ],
 "metadata": {
  "kernelspec": {
   "display_name": "Python 3.10.1 64-bit",
   "language": "python",
   "name": "python3"
  },
  "language_info": {
   "codemirror_mode": {
    "name": "ipython",
    "version": 3
   },
   "file_extension": ".py",
   "mimetype": "text/x-python",
   "name": "python",
   "nbconvert_exporter": "python",
   "pygments_lexer": "ipython3",
   "version": "3.10.1"
  },
  "orig_nbformat": 4,
  "vscode": {
   "interpreter": {
    "hash": "61a2715386f43054ccc9424e286356e6df448e9bcf7da7db6f8515f8bb39624f"
   }
  }
 },
 "nbformat": 4,
 "nbformat_minor": 2
}
